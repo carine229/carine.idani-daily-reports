{
 "cells": [
  {
   "cell_type": "markdown",
   "id": "7d6b3315-da92-4f16-9d3b-4f4b3f2851c9",
   "metadata": {},
   "source": [
    "# Exercise 2"
   ]
  },
  {
   "cell_type": "code",
   "execution_count": 1,
   "id": "939318fb-69c3-4658-a6fe-fe8ec45d167e",
   "metadata": {},
   "outputs": [
    {
     "name": "stdin",
     "output_type": "stream",
     "text": [
      "ENTER A NUMBER BETWEEN 0 AND 6 4\n"
     ]
    },
    {
     "name": "stdout",
     "output_type": "stream",
     "text": [
      "Weekday\n"
     ]
    }
   ],
   "source": [
    "x = ['Monday', 'Tuesday', 'Wednesday', 'Thursday', 'Friday', 'Saturday','Sunday']\n",
    "x[0] = 0\n",
    "x[1] = 1\n",
    "x[2] = 2\n",
    "x[3] = 3\n",
    "x[4] = 4\n",
    "x[5] = 5\n",
    "x[6] = 6\n",
    "\n",
    "A = int(input('ENTER A NUMBER BETWEEN 0 AND 6'))\n",
    "\n",
    "if (A == x[0] or A == x[1] or A == x[2] or A == x[3] or A == x[4]):\n",
    "    print( 'Weekday')\n",
    "else:\n",
    "    print('Weekend')  \n"
   ]
  },
  {
   "cell_type": "markdown",
   "id": "7aad1de1-7319-4403-8b16-f380c2747260",
   "metadata": {},
   "source": [
    "# Exercise 1"
   ]
  },
  {
   "cell_type": "code",
   "execution_count": 11,
   "id": "9e6f0db7-73c6-4930-9b15-e133e0084cd1",
   "metadata": {},
   "outputs": [
    {
     "name": "stdin",
     "output_type": "stream",
     "text": [
      "ENTER A NUMBER n  3\n"
     ]
    },
    {
     "name": "stdout",
     "output_type": "stream",
     "text": [
      "4\n"
     ]
    }
   ],
   "source": [
    "n = int(input('ENTER A NUMBER n '))\n",
    "i = 0\n",
    "summ = 0\n",
    "while i < n:\n",
    "   if i % 2 != 0:\n",
    "    summ = summ + (i + 3)\n",
    "   i += 1\n",
    "print(summ)"
   ]
  },
  {
   "cell_type": "code",
   "execution_count": 9,
   "id": "65e9efb5-eab3-43f7-b990-70d160593a11",
   "metadata": {},
   "outputs": [
    {
     "name": "stdin",
     "output_type": "stream",
     "text": [
      "ENTER A NUMBER n  2\n"
     ]
    },
    {
     "name": "stdout",
     "output_type": "stream",
     "text": [
      "3\n"
     ]
    }
   ],
   "source": [
    "n = int(input('ENTER A NUMBER n '))\n",
    "i = 0\n",
    "multiplication = 1\n",
    "while i < n:\n",
    "   if i % 2 == 0:\n",
    "    multiplication = multiplication * (i + 3)\n",
    "   i += 1\n",
    "print(multiplication)"
   ]
  },
  {
   "cell_type": "markdown",
   "id": "30fa5a13-79b7-47ae-b9e3-679159d40af5",
   "metadata": {},
   "source": [
    "# Exercise 3"
   ]
  },
  {
   "cell_type": "code",
   "execution_count": 15,
   "id": "a3e24fe8-7edd-42f3-8409-61e86cfe69ff",
   "metadata": {},
   "outputs": [
    {
     "name": "stdin",
     "output_type": "stream",
     "text": [
      "ENTER A NUMBER BETWEEN 0 AND 11 0\n"
     ]
    },
    {
     "name": "stdout",
     "output_type": "stream",
     "text": [
      "31\n"
     ]
    }
   ],
   "source": [
    "x = ['January', 'February', 'March', 'April', 'May', 'June', 'July', 'August', 'September', 'October', 'November', 'December']\n",
    "y = [31, 28, 31, 30, 31, 30, 31, 31, 30,31, 30, 31 ]\n",
    "x[0] = 0\n",
    "x[1] = 1\n",
    "x[2] = 2\n",
    "x[3] = 3\n",
    "x[4] = 4\n",
    "x[5] = 5\n",
    "x[6] = 6\n",
    "x[7] = 7\n",
    "x[8] = 8\n",
    "x[9] = 9\n",
    "x[10] = 10\n",
    "x[11] = 11\n",
    "A = int(input('ENTER A NUMBER BETWEEN 0 AND 11'))\n",
    "if (A == x[0] or A == x[1] or A == x[2] or A == x[3] or A == x[4] or A == x[5] or A == x[6] or A == x[7] or A == x[8] or A == x[9] or A == x[10] or A == x[11] ):\n",
    "    print(y[0])\n",
    "else:\n",
    "    print('Choisis un nombre entre 0 et 11')"
   ]
  },
  {
   "cell_type": "code",
   "execution_count": 23,
   "id": "122b705b-45ba-48e5-8da1-cbf6600b230d",
   "metadata": {},
   "outputs": [
    {
     "name": "stdout",
     "output_type": "stream",
     "text": [
      "Carine\n",
      "Carine\n",
      "Carine\n"
     ]
    }
   ],
   "source": [
    "for i in range(3):\n",
    "    print(\"Carine\")"
   ]
  },
  {
   "cell_type": "code",
   "execution_count": 25,
   "id": "9b33642d-12a8-408f-b399-7c691912888e",
   "metadata": {},
   "outputs": [
    {
     "name": "stdout",
     "output_type": "stream",
     "text": [
      "Carine\n",
      "Carine\n",
      "Carine\n"
     ]
    }
   ],
   "source": [
    "i = 1\n",
    "while i < 4:\n",
    "    print('Carine')\n",
    "    i = i + 1"
   ]
  },
  {
   "cell_type": "code",
   "execution_count": 29,
   "id": "92c9fd5d-4cc2-4491-bfe1-7a2e55938523",
   "metadata": {},
   "outputs": [
    {
     "name": "stdout",
     "output_type": "stream",
     "text": [
      "0\n",
      "3\n",
      "6\n",
      "7\n",
      "9\n",
      "11\n",
      "12\n",
      "14\n",
      "15\n",
      "18\n",
      "21\n",
      "22\n",
      "24\n",
      "27\n",
      "28\n",
      "30\n",
      "33\n",
      "35\n",
      "36\n",
      "39\n"
     ]
    }
   ],
   "source": [
    "for i in range(40):\n",
    "    if (i % 3 == 0 or i % 7 == 0 or i % 11 == 0):\n",
    "        print(i)\n",
    "    \n"
   ]
  },
  {
   "cell_type": "code",
   "execution_count": 33,
   "id": "68e7e7b3-7408-4593-a076-c99ecb95b079",
   "metadata": {},
   "outputs": [
    {
     "name": "stdin",
     "output_type": "stream",
     "text": [
      "Enter a number between 0 and 9 2\n",
      "Enter a number 10\n"
     ]
    },
    {
     "name": "stdout",
     "output_type": "stream",
     "text": [
      "2 times 0 = 0\n",
      "2 times 1 = 2\n",
      "2 times 2 = 4\n",
      "2 times 3 = 6\n",
      "2 times 4 = 8\n",
      "2 times 5 = 10\n",
      "2 times 6 = 12\n",
      "2 times 7 = 14\n",
      "2 times 8 = 16\n",
      "2 times 9 = 18\n"
     ]
    }
   ],
   "source": [
    "n = int(input('Enter a number between 0 and 9'))\n",
    "i = 1\n",
    "N = int(input(\"Enter a number\"))\n",
    "for i in range(N):\n",
    "    print(f\"{n} times {i} = {n * i}\")"
   ]
  },
  {
   "cell_type": "code",
   "execution_count": 47,
   "id": "f62b5a58-a411-4ee3-85df-2b99b9627f2d",
   "metadata": {},
   "outputs": [
    {
     "name": "stdin",
     "output_type": "stream",
     "text": [
      "Enter a natural number 20\n"
     ]
    },
    {
     "name": "stdout",
     "output_type": "stream",
     "text": [
      "1\n",
      "2\n",
      "4\n",
      "5\n",
      "10\n"
     ]
    }
   ],
   "source": [
    "n = int(input('Enter a natural number'))\n",
    "for i in range(1,n):\n",
    "    if (n % i == 0):\n",
    "        print(i)"
   ]
  },
  {
   "cell_type": "code",
   "execution_count": 86,
   "id": "a1300543-a132-4dfc-aa05-1b626a41e6d0",
   "metadata": {},
   "outputs": [
    {
     "name": "stdin",
     "output_type": "stream",
     "text": [
      "Enter a number n:  30\n"
     ]
    },
    {
     "name": "stdout",
     "output_type": "stream",
     "text": [
      "Ce nombre 1 n'est pas premier\n",
      "Ce nombre 2 est premier\n",
      "Ce nombre 3 est premier\n",
      "Ce nombre 5 est premier\n",
      "Ce nombre 6 n'est pas premier\n",
      "Ce nombre 10 n'est pas premier\n",
      "Ce nombre 15 n'est pas premier\n",
      "Ce nombre 30 n'est pas premier\n",
      "Les diviseurs premiers de 30 sont : [2, 3, 5]\n",
      "Les facteurs premiers de 30 sont [2, 3, 5]\n"
     ]
    }
   ],
   "source": [
    "n = int(input('Enter a number n: '))\n",
    "Liste = []\n",
    "prod = 1\n",
    "for i in range(1, n+1):\n",
    "    if n % i == 0:  \n",
    "        compteur = 0\n",
    "        for l in range(1, i+1):\n",
    "            if i % l == 0:\n",
    "                compteur = compteur + 1\n",
    "        if compteur == 2:  \n",
    "            print('Ce nombre', i, 'est premier')\n",
    "            Liste.append(i)  \n",
    "        else:\n",
    "            print(\"Ce nombre\", i, \"n'est pas premier\")\n",
    "\n",
    "print(\"Les diviseurs premiers de\", n, \"sont :\", Liste)\n",
    "\n",
    "for div in Liste:\n",
    "    prod *= div\n",
    "\n",
    "if prod == n:\n",
    "    print(\"Les facteurs premiers de\", n, \"sont\", Liste)\n",
    "else:\n",
    "    print(\"Les facteurs premiers ne correspondent pas au nombre\", n)\n"
   ]
  },
  {
   "cell_type": "markdown",
   "id": "09bc117b-8b85-43d8-9e0b-a7a64309830d",
   "metadata": {},
   "source": [
    "# Exercise 6"
   ]
  },
  {
   "cell_type": "code",
   "execution_count": 90,
   "id": "a4833cab-9a40-4f5c-a3b0-4ea6caca4206",
   "metadata": {},
   "outputs": [
    {
     "name": "stdin",
     "output_type": "stream",
     "text": [
      "Enter the first value x0:  1\n",
      "Enter the second value x1:  2\n"
     ]
    },
    {
     "name": "stdout",
     "output_type": "stream",
     "text": [
      "x0 = 1\n",
      "x1 = 2\n",
      "x2 = 4.0\n",
      "x3 = 8.0\n",
      "x4 = 16.0\n",
      "x5 = 32.0\n",
      "x6 = 64.0\n",
      "x7 = 128.0\n",
      "x8 = 256.0\n",
      "x9 = 512.0\n",
      "x10 = 1024.0\n",
      "x11 = 2048.0\n",
      "x12 = 4096.0\n",
      "x13 = 8192.0\n",
      "x14 = 16384.0\n",
      "x15 = 32768.0\n",
      "x16 = 65536.0\n",
      "x17 = 131072.0\n",
      "x18 = 262144.0\n",
      "x19 = 524288.0\n",
      "x20 = 1048576.0\n",
      "x21 = 2097152.0\n",
      "x22 = 4194304.0\n",
      "x23 = 8388608.0\n",
      "x24 = 16777216.0\n",
      "x25 = 33554432.0\n",
      "x26 = 67108864.0\n",
      "x27 = 134217728.0\n",
      "x28 = 268435456.0\n",
      "x29 = 536870912.0\n",
      "x30 = 1073741824.0\n"
     ]
    }
   ],
   "source": [
    "n = 30\n",
    "x0 = int(input('Enter the first value x0: '))\n",
    "x1 = int(input('Enter the second value x1: '))\n",
    "xn = x0\n",
    "xn1 = x1\n",
    "print(f\"x0 = {x0}\")\n",
    "print(f\"x1 = {x1}\")\n",
    "for i in range(2, n+1):\n",
    "    xn2 = (xn1 + 6 * xn) / 2\n",
    "    print(f\"x{i} = {xn2}\")\n",
    "    xn = xn1\n",
    "    xn1 = xn2"
   ]
  },
  {
   "cell_type": "markdown",
   "id": "c951a225-b295-428d-ac37-719bd947685f",
   "metadata": {},
   "source": [
    "# Exercise 5"
   ]
  },
  {
   "cell_type": "code",
   "execution_count": 98,
   "id": "a8839f25-096f-486c-819e-a95cda12aaa4",
   "metadata": {},
   "outputs": [
    {
     "name": "stdin",
     "output_type": "stream",
     "text": [
      "Enter the first value a0:  0\n",
      "Enter the second value a1:  1\n"
     ]
    },
    {
     "name": "stdout",
     "output_type": "stream",
     "text": [
      "a2 = 1\n",
      "a3 = 2\n",
      "a4 = 3\n",
      "a5 = 5\n",
      "a6 = 8\n",
      "a7 = 13\n",
      "a8 = 21\n",
      "a9 = 34\n",
      "a10 = 55\n",
      "a11 = 89\n",
      "a12 = 144\n",
      "a13 = 233\n",
      "a14 = 377\n",
      "a15 = 610\n"
     ]
    }
   ],
   "source": [
    "n = 15\n",
    "a0 = int(input('Enter the first value a0: '))\n",
    "a1 = int(input('Enter the second value a1: '))\n",
    "an = a0\n",
    "an1 = a1\n",
    "for i in range(2, n+1):\n",
    "    an2 = an + an1\n",
    "    print(f\"a{i} = {an2}\")\n",
    "    an = an1\n",
    "    an1 = an2\n",
    "    "
   ]
  },
  {
   "cell_type": "code",
   "execution_count": null,
   "id": "3792ac61-4af7-4824-b2ff-700884f8f87d",
   "metadata": {},
   "outputs": [],
   "source": []
  }
 ],
 "metadata": {
  "kernelspec": {
   "display_name": "Python 3 (ipykernel)",
   "language": "python",
   "name": "python3"
  },
  "language_info": {
   "codemirror_mode": {
    "name": "ipython",
    "version": 3
   },
   "file_extension": ".py",
   "mimetype": "text/x-python",
   "name": "python",
   "nbconvert_exporter": "python",
   "pygments_lexer": "ipython3",
   "version": "3.12.4"
  }
 },
 "nbformat": 4,
 "nbformat_minor": 5
}
