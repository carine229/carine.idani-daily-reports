{
 "cells": [
  {
   "cell_type": "markdown",
   "id": "af0d22b2-6881-4e74-9f43-ed6280601122",
   "metadata": {},
   "source": [
    "# Practical_6: Numpy"
   ]
  },
  {
   "cell_type": "markdown",
   "id": "527d7945-352e-4827-b737-9284654ed9bd",
   "metadata": {},
   "source": [
    "Exercise 1:¶\n",
    "Create a NumPy array of integers from 1 to 10.\n",
    "\n",
    "## Exercise 1"
   ]
  },
  {
   "cell_type": "code",
   "execution_count": 5,
   "id": "cb8e4662-bbc7-4552-b7e9-c72f90c68b83",
   "metadata": {},
   "outputs": [
    {
     "data": {
      "text/plain": [
       "array([1, 2, 3, 4, 5, 6, 7, 8, 9])"
      ]
     },
     "execution_count": 5,
     "metadata": {},
     "output_type": "execute_result"
    }
   ],
   "source": [
    "import numpy as np\n",
    "x = np.arange(1,10)\n",
    "x"
   ]
  },
  {
   "cell_type": "markdown",
   "id": "5b97ddf8-9a47-4bc0-9530-79341689aab3",
   "metadata": {},
   "source": [
    "## Exercise 2:\n",
    "Create a 3x3 NumPy array filled with zeros."
   ]
  },
  {
   "cell_type": "code",
   "execution_count": 10,
   "id": "01779adb-3688-477c-9848-2c26d4718d5e",
   "metadata": {},
   "outputs": [
    {
     "data": {
      "text/plain": [
       "array([[0., 0., 0.],\n",
       "       [0., 0., 0.],\n",
       "       [0., 0., 0.]])"
      ]
     },
     "execution_count": 10,
     "metadata": {},
     "output_type": "execute_result"
    }
   ],
   "source": [
    "x = np.zeros((3,3))\n",
    "x"
   ]
  },
  {
   "cell_type": "markdown",
   "id": "d824506a-1c50-41c7-8456-86c53b17d778",
   "metadata": {},
   "source": [
    "## Exercise 3:\n",
    "Create a NumPy array of 10 evenly spaced numbers between 0 and 5."
   ]
  },
  {
   "cell_type": "code",
   "execution_count": 15,
   "id": "72731fa6-941d-4216-a05c-c57902dc3681",
   "metadata": {},
   "outputs": [
    {
     "data": {
      "text/plain": [
       "array([0. , 0.5, 1. , 1.5, 2. , 2.5, 3. , 3.5, 4. , 4.5])"
      ]
     },
     "execution_count": 15,
     "metadata": {},
     "output_type": "execute_result"
    }
   ],
   "source": [
    "x = np.arange(0,5,0.5)\n",
    "x"
   ]
  },
  {
   "cell_type": "markdown",
   "id": "1a9a7e30-bf13-4d5b-8dc3-9f89e2fd6375",
   "metadata": {},
   "source": [
    "## Exercise 4:\r\n",
    "Create a 5x5 identity matrix using NumPy."
   ]
  },
  {
   "cell_type": "code",
   "execution_count": 18,
   "id": "0cb7ce10-3002-487a-82f7-3907aac3edf7",
   "metadata": {},
   "outputs": [
    {
     "data": {
      "text/plain": [
       "array([[1., 0., 0., 0., 0.],\n",
       "       [0., 1., 0., 0., 0.],\n",
       "       [0., 0., 1., 0., 0.],\n",
       "       [0., 0., 0., 1., 0.],\n",
       "       [0., 0., 0., 0., 1.]])"
      ]
     },
     "execution_count": 18,
     "metadata": {},
     "output_type": "execute_result"
    }
   ],
   "source": [
    "x = np.eye(5)\n",
    "x"
   ]
  },
  {
   "cell_type": "markdown",
   "id": "f6cf47a7-bb9e-4343-82e4-7b91481ab426",
   "metadata": {},
   "source": [
    "## Exercise 5:\r\n",
    "Create a 4x4 matrix with random values between 0 and 1."
   ]
  },
  {
   "cell_type": "code",
   "execution_count": 25,
   "id": "0a308e4f-1b79-40ac-90bd-02dba092703c",
   "metadata": {},
   "outputs": [
    {
     "data": {
      "text/plain": [
       "array([[0.30880238, 0.86431014, 0.41520705, 0.41396696],\n",
       "       [0.27755985, 0.52677175, 0.31792816, 0.15148174],\n",
       "       [0.45150509, 0.79043526, 0.88066822, 0.26809996],\n",
       "       [0.11868423, 0.90778465, 0.39861818, 0.71083243]])"
      ]
     },
     "execution_count": 25,
     "metadata": {},
     "output_type": "execute_result"
    }
   ],
   "source": [
    "x = np.random.random((4,4))\n",
    "x"
   ]
  },
  {
   "cell_type": "markdown",
   "id": "386d298c-3a99-4efb-ba2d-f05e48407249",
   "metadata": {},
   "source": [
    "## Exercise 6:\n",
    "Find the shape of a NumPy array."
   ]
  },
  {
   "cell_type": "code",
   "execution_count": 28,
   "id": "2a16000c-bc8f-4b76-90fa-0dfed42f8b7f",
   "metadata": {},
   "outputs": [
    {
     "name": "stdout",
     "output_type": "stream",
     "text": [
      "(5,)\n"
     ]
    }
   ],
   "source": [
    "x = np.array([1,3,7,4,8])\n",
    "print(x.shape)"
   ]
  },
  {
   "cell_type": "markdown",
   "id": "f04de0bf-7cfc-478a-9063-71dc25d5e5a6",
   "metadata": {},
   "source": [
    "## Exercise 7:\n",
    "Reshape a 1D NumPy array of 16 elements into a 4x4 matrix."
   ]
  },
  {
   "cell_type": "code",
   "execution_count": 31,
   "id": "57d913dc-04de-423b-9542-97811411d8c6",
   "metadata": {},
   "outputs": [
    {
     "name": "stdout",
     "output_type": "stream",
     "text": [
      "[[ 1  2  3  4]\n",
      " [ 5  6  7  8]\n",
      " [ 9 10 11 12]\n",
      " [13 14 15 16]]\n"
     ]
    }
   ],
   "source": [
    "x = np.arange(1,17).reshape((4,4))\n",
    "print(x)"
   ]
  },
  {
   "cell_type": "markdown",
   "id": "37aa6110-e73e-4c19-ac91-e9c28724555d",
   "metadata": {},
   "source": [
    "## Exercise 8:\n",
    "Find the data type of the elements in a NumPy array.\n",
    "\n"
   ]
  },
  {
   "cell_type": "code",
   "execution_count": 38,
   "id": "f851242f-05a3-4ca2-9226-cc8cd7fa4234",
   "metadata": {},
   "outputs": [
    {
     "name": "stdout",
     "output_type": "stream",
     "text": [
      "float64\n"
     ]
    }
   ],
   "source": [
    "x = np.array([1,4,89,45,6.0])\n",
    "print(x.dtype)"
   ]
  },
  {
   "cell_type": "markdown",
   "id": "f57ab6c0-c5b8-45b6-a47b-9b1268eed613",
   "metadata": {},
   "source": [
    "## Exercise 9:\n",
    "Create a NumPy array of integers from 1 to 100 and find all even numbers in the array.\n",
    "\n"
   ]
  },
  {
   "cell_type": "code",
   "execution_count": 42,
   "id": "cbf4de3b-3999-44bc-a129-30642625d63b",
   "metadata": {},
   "outputs": [],
   "source": [
    "x = np.arange(1,100)\n"
   ]
  },
  {
   "cell_type": "markdown",
   "id": "f7b62903-47a5-4ef0-936e-1100b38e69d4",
   "metadata": {},
   "source": [
    "## Exercise 10:\n",
    "Generate a 6x6 matrix of random integers between 10 and 50.\n",
    "\n"
   ]
  },
  {
   "cell_type": "code",
   "execution_count": 56,
   "id": "2382de3b-9f9a-4cb2-9f12-b6829cb1abc5",
   "metadata": {},
   "outputs": [
    {
     "data": {
      "text/plain": [
       "array([[13, 21, 24, 31, 30, 36],\n",
       "       [46, 19, 43, 17, 32, 24],\n",
       "       [44, 47, 43, 16, 24, 22],\n",
       "       [37, 33, 18, 36, 34, 16],\n",
       "       [46, 24, 21, 24, 18, 39],\n",
       "       [24, 23, 14, 33, 48, 44]])"
      ]
     },
     "execution_count": 56,
     "metadata": {},
     "output_type": "execute_result"
    }
   ],
   "source": [
    "x = np.random.randint(10,50, size = (6,6))\n",
    "x"
   ]
  },
  {
   "cell_type": "code",
   "execution_count": null,
   "id": "fc9b421f-9e26-4b69-a82c-7c13c2174a8e",
   "metadata": {},
   "outputs": [],
   "source": []
  },
  {
   "cell_type": "markdown",
   "id": "45c028f8-79fc-4f31-a110-79fe53a13e30",
   "metadata": {},
   "source": [
    "## Exercise 11:\n",
    "Slice a 2D NumPy array to extract a submatrix.\n",
    "\n"
   ]
  },
  {
   "cell_type": "code",
   "execution_count": 75,
   "id": "adb47cd4-72c0-435a-bad1-10b3c84a1d91",
   "metadata": {},
   "outputs": [
    {
     "data": {
      "text/plain": [
       "array([4, 7])"
      ]
     },
     "execution_count": 75,
     "metadata": {},
     "output_type": "execute_result"
    }
   ],
   "source": [
    "x = np.array(([1,7,0,4,6],[2,4,6,7,9]))\n",
    "x\n",
    "y = x[:,3]\n",
    "y"
   ]
  },
  {
   "cell_type": "markdown",
   "id": "5faf80f7-c140-4b24-8f23-bf87026aefa7",
   "metadata": {},
   "source": [
    "## Exercise 12:\n",
    "Calculate the sum of all elements in a NumPy array.\n",
    "\n"
   ]
  },
  {
   "cell_type": "code",
   "execution_count": 102,
   "id": "a903ad6d-1661-43b0-90f5-9eb18c0cbb96",
   "metadata": {},
   "outputs": [
    {
     "data": {
      "text/plain": [
       "array([[ 1,  6,  7],\n",
       "       [ 3,  4, 10]])"
      ]
     },
     "execution_count": 102,
     "metadata": {},
     "output_type": "execute_result"
    }
   ],
   "source": [
    "x = np.array([[1,6,7],[3,4,10]])\n",
    "x"
   ]
  },
  {
   "cell_type": "code",
   "execution_count": 104,
   "id": "9b3622da-9365-4afd-b42c-1bf6d3d08131",
   "metadata": {},
   "outputs": [
    {
     "name": "stdout",
     "output_type": "stream",
     "text": [
      "31\n"
     ]
    }
   ],
   "source": [
    "print(np.sum(x)) # SUM OF ALL ELEMENTS"
   ]
  },
  {
   "cell_type": "code",
   "execution_count": 106,
   "id": "099e8dad-7726-42ae-8966-d9c57b1d399c",
   "metadata": {},
   "outputs": [
    {
     "data": {
      "text/plain": [
       "array([ 4, 10, 17])"
      ]
     },
     "execution_count": 106,
     "metadata": {},
     "output_type": "execute_result"
    }
   ],
   "source": [
    "t = np.sum(x,0) # SUM BY COLUMN\n",
    "t"
   ]
  },
  {
   "cell_type": "code",
   "execution_count": 112,
   "id": "b548c60f-ac8b-4984-86b3-ad39ce2c9775",
   "metadata": {},
   "outputs": [
    {
     "data": {
      "text/plain": [
       "array([14, 17])"
      ]
     },
     "execution_count": 112,
     "metadata": {},
     "output_type": "execute_result"
    }
   ],
   "source": [
    "t = np.sum(x,1) #SUM BY LINE\n",
    "t"
   ]
  },
  {
   "cell_type": "markdown",
   "id": "3684149a-09e0-43f0-976c-32cf257f2a24",
   "metadata": {},
   "source": [
    "## Exercise 13:\n",
    "Calculate the mean, median, and standard deviation of a NumPy array.\n",
    "\n"
   ]
  },
  {
   "cell_type": "code",
   "execution_count": 139,
   "id": "3b5d387e-c97c-4c89-a008-f100762e077c",
   "metadata": {},
   "outputs": [
    {
     "name": "stdout",
     "output_type": "stream",
     "text": [
      "[2.  5.  8.5]\n",
      "[4.66666667 5.66666667]\n",
      "5.166666666666667\n"
     ]
    }
   ],
   "source": [
    "# mean\n",
    "x = np.array([[1,6,7],[3,4,10]])\n",
    "y = np.mean(x,0) # MEAN BY COLUMN\n",
    "print(y)\n",
    "z = np.mean(x,1) # MEAN BY LINE\n",
    "print(z)\n",
    "moy = np.mean(x)\n",
    "print(moy)"
   ]
  },
  {
   "cell_type": "code",
   "execution_count": 144,
   "id": "b3b288fe-4783-41de-bdd8-de4ff1d79380",
   "metadata": {},
   "outputs": [
    {
     "name": "stdout",
     "output_type": "stream",
     "text": [
      "[66. 49. 37.]\n",
      "[49. 84. 21.]\n",
      "49.0\n"
     ]
    }
   ],
   "source": [
    "# median\n",
    "x = np.random.randint(100, size = (3,3))\n",
    "y = np.median(x,0) # MEdian BY COLUMN\n",
    "print(y)\n",
    "z = np.median(x,1) # MEdian BY LINE\n",
    "print(z)\n",
    "med = np.median(x)\n",
    "print(med)\n"
   ]
  },
  {
   "cell_type": "code",
   "execution_count": 146,
   "id": "b4b63cb2-3282-4582-9bea-cc9629706998",
   "metadata": {},
   "outputs": [
    {
     "name": "stdout",
     "output_type": "stream",
     "text": [
      "[18.99122604 20.8859336   6.5489609 ]\n",
      "[21.06075867 17.74510887 11.5758369 ]\n",
      "17.478734875256453\n"
     ]
    }
   ],
   "source": [
    "# standard deviation\n",
    "x = np.random.randint(100, size = (3,3))\n",
    "y = np.std(x,0) # standard deviation BY COLUMN\n",
    "print(y)\n",
    "z = np.std(x,1) # standard deviation BY LINE\n",
    "print(z)\n",
    "stand_dev = np.std(x)\n",
    "print(stand_dev)"
   ]
  },
  {
   "cell_type": "markdown",
   "id": "2959b421-837f-43d8-9718-3771f1de9c17",
   "metadata": {},
   "source": [
    "## Exercise 14:\n",
    "Find the maximum and minimum values in a NumPy array.\n",
    "\n"
   ]
  },
  {
   "cell_type": "code",
   "execution_count": 152,
   "id": "bc2d6b10-6569-4343-9432-62a121358d38",
   "metadata": {},
   "outputs": [
    {
     "name": "stdout",
     "output_type": "stream",
     "text": [
      "[[ 0 13  0]\n",
      " [10  1  7]]\n",
      "1\n",
      "[1 0 1]\n",
      "[1 0]\n",
      "0\n",
      "[0 1 0]\n",
      "[0 1]\n"
     ]
    }
   ],
   "source": [
    "x = np.random.randint(15, size = (2,3))\n",
    "print(x)\n",
    "'''\n",
    "The functions np.argmax or np.argmin return the indices of the maximal valjues or minimum values\n",
    "'''\n",
    "# maximum\n",
    "y = np.argmax(x)\n",
    "print(y)\n",
    "y1 = np.argmax(x,0) # by column\n",
    "print(y1)\n",
    "y2 = np.argmax(x,1) # by row\n",
    "print(y2)\n",
    "\n",
    "# minimum\n",
    "t = np.argmin(x)\n",
    "print(t)\n",
    "t1 = np.argmin(x,0) # by column\n",
    "print(t1)\n",
    "t2 = np.argmin(x,1) # by row\n",
    "print(t2)"
   ]
  },
  {
   "cell_type": "code",
   "execution_count": null,
   "id": "e44ec70c-f1fd-4291-aa47-e832b9606578",
   "metadata": {},
   "outputs": [],
   "source": []
  },
  {
   "cell_type": "markdown",
   "id": "4042bdd1-b321-4129-bc91-c260f7d49442",
   "metadata": {},
   "source": [
    "## Exercise 15:\n",
    "Create a NumPy array of 20 random integers and find the index of the maximum value.\n",
    "\n"
   ]
  },
  {
   "cell_type": "code",
   "execution_count": 156,
   "id": "1ccee771-7490-48c2-84eb-1fe7856dce03",
   "metadata": {},
   "outputs": [
    {
     "data": {
      "text/plain": [
       "0"
      ]
     },
     "execution_count": 156,
     "metadata": {},
     "output_type": "execute_result"
    }
   ],
   "source": [
    "x = np.random.randint(50, size = 20)\n",
    "y = np.argmax(x)\n",
    "y"
   ]
  },
  {
   "cell_type": "markdown",
   "id": "769f4612-274e-4ce3-9aa4-b091a8424e23",
   "metadata": {},
   "source": [
    "## Exercise 16:\n",
    "Create a NumPy array and reverse its elements.\n",
    "\n"
   ]
  },
  {
   "cell_type": "code",
   "execution_count": 177,
   "id": "4bb98367-e042-4b6f-8189-984fd94f3290",
   "metadata": {},
   "outputs": [
    {
     "name": "stdout",
     "output_type": "stream",
     "text": [
      "[18 44 10  2 30  0 29 19  0 16 13 26 42 24 46 43 18 12 38 22]\n",
      "[22 38 12 18 43 46 24 42 26 13 16  0 19 29  0 30  2 10 44 18]\n"
     ]
    }
   ],
   "source": [
    "x = np.random.randint(50, size = 20)\n",
    "print(x)\n",
    "y = np.flipud(x)\n",
    "print(y)"
   ]
  },
  {
   "cell_type": "markdown",
   "id": "4d61cb20-7b57-4538-9aa7-ff7e4a3fd056",
   "metadata": {},
   "source": [
    "## Exercise 17:\n",
    "Create a 3x3 matrix and multiply it element-wise by another 3x3 matrix.\n"
   ]
  },
  {
   "cell_type": "code",
   "execution_count": 180,
   "id": "9d266d03-ea70-4158-abef-8b8c6c305dc3",
   "metadata": {},
   "outputs": [
    {
     "name": "stdout",
     "output_type": "stream",
     "text": [
      "[[33 10 11]\n",
      " [25 49 47]\n",
      " [47 12 12]]\n",
      "[[ 2  6  4]\n",
      " [ 8  4  2]\n",
      " [ 6 11 13]]\n",
      "[[ 66  60  44]\n",
      " [200 196  94]\n",
      " [282 132 156]]\n"
     ]
    }
   ],
   "source": [
    "x = np.random.randint(50, size = (3,3))\n",
    "y = np.random.randint(15, size = (3,3))\n",
    "print(x)\n",
    "print(y)\n",
    "t = np.multiply(x,y)\n",
    "print(t)"
   ]
  },
  {
   "cell_type": "markdown",
   "id": "441114ea-fea0-4e34-9f1c-e5d438025bd8",
   "metadata": {},
   "source": [
    "## Exercise 18:\n",
    "Create a diagonal matrix from a given 1D array.\n",
    "\n"
   ]
  },
  {
   "cell_type": "code",
   "execution_count": 183,
   "id": "5bdaef7a-99af-4245-9f73-ced8c3e93383",
   "metadata": {},
   "outputs": [
    {
     "name": "stdout",
     "output_type": "stream",
     "text": [
      "[2 5 9 6]\n",
      "[[2 0 0 0]\n",
      " [0 5 0 0]\n",
      " [0 0 9 0]\n",
      " [0 0 0 6]]\n"
     ]
    }
   ],
   "source": [
    "x = np.random.randint(10, size = 4)\n",
    "print(x)\n",
    "y = np.diag(x)\n",
    "print(y)\n"
   ]
  },
  {
   "cell_type": "markdown",
   "id": "3eea29be-24a3-42b4-84a4-ab674a46ccdf",
   "metadata": {},
   "source": [
    "## Exercise 19:\n",
    "Perform matrix multiplication on two 2D NumPy arrays.\n",
    "\n"
   ]
  },
  {
   "cell_type": "code",
   "execution_count": 188,
   "id": "f04380ad-2a94-4c33-99ee-a4cf7c049ed5",
   "metadata": {},
   "outputs": [
    {
     "name": "stdout",
     "output_type": "stream",
     "text": [
      "[[12 14]\n",
      " [20 78]]\n"
     ]
    }
   ],
   "source": [
    "x = np.random.randint(10, size = (2,2))\n",
    "y = np.random.randint(15, size = (2,2))\n",
    "t= np.multiply(x,y)\n",
    "print(t)"
   ]
  },
  {
   "cell_type": "markdown",
   "id": "1b636b35-f4f0-4b3f-bcfc-aa5763a58022",
   "metadata": {},
   "source": [
    "## Exercise 20:\n",
    "Flatten a 2D NumPy array into a 1D array.\n",
    "\n"
   ]
  },
  {
   "cell_type": "code",
   "execution_count": 199,
   "id": "1dcf1ba3-3e30-4f8b-a054-2c3e7aae659d",
   "metadata": {},
   "outputs": [
    {
     "name": "stdout",
     "output_type": "stream",
     "text": [
      "[[7 5]\n",
      " [4 9]]\n",
      "[7 5 4 9]\n"
     ]
    }
   ],
   "source": [
    "x = np.random.randint(10, size = (2,2))\n",
    "print(x)\n",
    "y = np.ravel(x)\n",
    "print(y)"
   ]
  },
  {
   "cell_type": "markdown",
   "id": "fb4b96aa-0876-4002-8ac1-e177f13dd023",
   "metadata": {},
   "source": [
    "## Exercise 21:\n",
    "Stack two NumPy arrays vertically.\n",
    "\n"
   ]
  },
  {
   "cell_type": "code",
   "execution_count": 225,
   "id": "409fb5ae-3d2f-431d-b9ce-f42b53e9bddb",
   "metadata": {},
   "outputs": [
    {
     "name": "stdout",
     "output_type": "stream",
     "text": [
      "[[5 6]\n",
      " [0 7]]\n",
      "[[10 14]\n",
      " [ 2  0]]\n",
      "[[ 5  6]\n",
      " [ 0  7]\n",
      " [10 14]\n",
      " [ 2  0]]\n"
     ]
    }
   ],
   "source": [
    "x = np.random.randint(10, size = (2,2))\n",
    "print(x)\n",
    "y = np.random.randint(15, size = (2,2))\n",
    "print(y)\n",
    "t = np.vstack((x,y))\n",
    "print(t)\n",
    "\n"
   ]
  },
  {
   "cell_type": "markdown",
   "id": "35a904cd-295b-4c1d-9523-85a66a2fd7b4",
   "metadata": {},
   "source": [
    "## Exercise 22:\n",
    "Stack two NumPy arrays horizontally.\n",
    "\n"
   ]
  },
  {
   "cell_type": "code",
   "execution_count": 227,
   "id": "925eaa1a-f695-4686-a349-c1420e4312d8",
   "metadata": {},
   "outputs": [
    {
     "name": "stdout",
     "output_type": "stream",
     "text": [
      "[[9 6]\n",
      " [5 7]]\n",
      "[[10 10]\n",
      " [ 2  4]]\n",
      "[[ 9  6 10 10]\n",
      " [ 5  7  2  4]]\n"
     ]
    }
   ],
   "source": [
    "x = np.random.randint(10, size = (2,2))\n",
    "print(x)\n",
    "y = np.random.randint(15, size = (2,2))\n",
    "print(y)\n",
    "t = np.hstack((x,y))\n",
    "print(t)\n"
   ]
  },
  {
   "cell_type": "markdown",
   "id": "ea8b05b0-28b0-4827-94a5-bf6ddb90e83b",
   "metadata": {},
   "source": [
    "## Exercise 23:\n",
    "Split a NumPy array into multiple sub-arrays.\n",
    "\n"
   ]
  },
  {
   "cell_type": "code",
   "execution_count": 235,
   "id": "984e092e-ca83-4778-8364-d2437dde603c",
   "metadata": {},
   "outputs": [
    {
     "name": "stdout",
     "output_type": "stream",
     "text": [
      "[[2 4]\n",
      " [0 9]\n",
      " [9 3]\n",
      " [7 6]]\n",
      "[array([[2, 4],\n",
      "       [0, 9]]), array([[9, 3],\n",
      "       [7, 6]])]\n"
     ]
    }
   ],
   "source": [
    "x = np.random.randint(10, size = (4,2))\n",
    "print(x)\n",
    "y = np.split(x,2)\n",
    "print(y)"
   ]
  },
  {
   "cell_type": "markdown",
   "id": "e82087a8-ffe3-4993-ae93-91d95fa97c2c",
   "metadata": {},
   "source": [
    "## Exercise 24:\n",
    "Generate a random NumPy array and round each element to two decimal places.\n",
    "\n"
   ]
  },
  {
   "cell_type": "code",
   "execution_count": 246,
   "id": "8392085b-1fc9-45c9-ab28-6324f69804c8",
   "metadata": {},
   "outputs": [
    {
     "name": "stdout",
     "output_type": "stream",
     "text": [
      "[0.78529823 0.39029736 0.56826507 0.88149883 0.27338928 0.54461898\n",
      " 0.51233721 0.36131201 0.65273114 0.35912425]\n",
      "[0.79 0.39 0.57 0.88 0.27 0.54 0.51 0.36 0.65 0.36]\n"
     ]
    }
   ],
   "source": [
    "x = np.random.rand(10)\n",
    "print(x)\n",
    "y = np.round(x,2)\n",
    "print(y)"
   ]
  },
  {
   "cell_type": "markdown",
   "id": "3896ac62-38c4-4f4c-965b-920220cc56bc",
   "metadata": {},
   "source": [
    "## Exercise 25:\n",
    "Find the unique elements of a NumPy array.\n",
    "\n"
   ]
  },
  {
   "cell_type": "code",
   "execution_count": 249,
   "id": "936edfbe-8c4f-4587-b662-c42b0796a515",
   "metadata": {},
   "outputs": [
    {
     "name": "stdout",
     "output_type": "stream",
     "text": [
      "[1 7 0 5 8 8 0 2 6 1]\n",
      "[0 1 2 5 6 7 8]\n"
     ]
    }
   ],
   "source": [
    "x = np.random.randint(10, size = 10)\n",
    "print(x)\n",
    "y = np.unique(x)\n",
    "print(y)"
   ]
  },
  {
   "cell_type": "markdown",
   "id": "26cc3e36-6a50-4b7d-ba64-67269780ae4e",
   "metadata": {},
   "source": [
    "## Exercise 26:\n",
    "Replace all elements in a NumPy array that are less than a specific value with that value.\n",
    "\n"
   ]
  },
  {
   "cell_type": "code",
   "execution_count": 254,
   "id": "9bebb8b4-0bb8-4c83-ac32-d7ee5f17ad0e",
   "metadata": {},
   "outputs": [
    {
     "name": "stdout",
     "output_type": "stream",
     "text": [
      "[6 9 5 5 5 9 9 5 5 7]\n"
     ]
    }
   ],
   "source": [
    "x = np.random.randint(10, size = 10)\n",
    "x[x <= 4] = 5\n",
    "print(x)"
   ]
  },
  {
   "cell_type": "markdown",
   "id": "0c1def58-18b7-454e-bb3a-a95c1af51ecc",
   "metadata": {},
   "source": [
    "## Exercise 27:\n",
    "Find the cumulative sum of the elements in a NumPy array.\n",
    "\n"
   ]
  },
  {
   "cell_type": "code",
   "execution_count": 257,
   "id": "ea634b89-36b4-4702-846c-a8820c3d216b",
   "metadata": {},
   "outputs": [
    {
     "name": "stdout",
     "output_type": "stream",
     "text": [
      "[5 3 4 4 8 5 1 9 0 9]\n",
      "[ 5  8 12 16 24 29 30 39 39 48]\n"
     ]
    }
   ],
   "source": [
    "x = np.random.randint(10, size = 10)\n",
    "print(x)\n",
    "y = np.cumsum(x)\n",
    "print(y)\n"
   ]
  },
  {
   "cell_type": "markdown",
   "id": "b6160871-b366-4337-a49d-a56c1411716b",
   "metadata": {},
   "source": [
    "## Exercise 28:\n",
    "Create a NumPy array and find the number of non-zero elements in it.\n",
    "\n"
   ]
  },
  {
   "cell_type": "code",
   "execution_count": 262,
   "id": "806e7f33-f006-4cc3-8f5a-c526d4afd42a",
   "metadata": {},
   "outputs": [
    {
     "name": "stdout",
     "output_type": "stream",
     "text": [
      "[7 7 5 4 5 5 0 4 1 6]\n",
      "9\n"
     ]
    }
   ],
   "source": [
    "x = np.random.randint(10, size = 10)\n",
    "print(x)\n",
    "y = np.count_nonzero(x)\n",
    "print(y)"
   ]
  },
  {
   "cell_type": "markdown",
   "id": "593ec986-b529-4709-b549-575b8007f9b0",
   "metadata": {},
   "source": [
    "## Exercise 29:\n",
    "Create a NumPy array of random integers and sort it in ascending order.\n",
    "\n"
   ]
  },
  {
   "cell_type": "code",
   "execution_count": 265,
   "id": "8b1073a8-4404-4880-b5dd-5eb864df7735",
   "metadata": {},
   "outputs": [
    {
     "name": "stdout",
     "output_type": "stream",
     "text": [
      "[0 0 5 5 6 0 3 9 0 7]\n",
      "[0 0 0 0 3 5 5 6 7 9]\n"
     ]
    }
   ],
   "source": [
    "x = np.random.randint(10, size = 10)\n",
    "print(x)\n",
    "y = np.sort(x)\n",
    "print(y)"
   ]
  },
  {
   "cell_type": "markdown",
   "id": "b7774766-792f-4aea-a777-e3b6c6087357",
   "metadata": {},
   "source": [
    "## Exercise 30:\n",
    "Find the row-wise and column-wise sum of a 3x3 matrix.\n",
    "\n"
   ]
  },
  {
   "cell_type": "code",
   "execution_count": 268,
   "id": "503636cc-4c63-4e66-99d4-405891799341",
   "metadata": {},
   "outputs": [
    {
     "name": "stdout",
     "output_type": "stream",
     "text": [
      "[[0 6 0]\n",
      " [4 6 8]\n",
      " [5 8 4]]\n",
      "[ 6 18 17]\n",
      "[ 9 20 12]\n"
     ]
    }
   ],
   "source": [
    "x = np.random.randint(10, size = (3,3))\n",
    "print(x)\n",
    "row_wise = np.sum(x, axis = 1)\n",
    "print(row_wise)\n",
    "column_wise = np.sum(x, axis = 0)\n",
    "print(column_wise)"
   ]
  },
  {
   "cell_type": "markdown",
   "id": "e6e7b55d-9cf7-4042-a6ee-f4eeff4069ae",
   "metadata": {},
   "source": [
    "## Exercise 31:\n",
    "Generate a 2D NumPy array with random values and normalize it (scale the values between 0 and 1).\n",
    "\n"
   ]
  },
  {
   "cell_type": "code",
   "execution_count": 275,
   "id": "8a97c386-42bf-4408-93ff-3075c3329f5c",
   "metadata": {},
   "outputs": [
    {
     "name": "stdout",
     "output_type": "stream",
     "text": [
      "[[9 0]\n",
      " [3 3]]\n",
      "[[1.         0.        ]\n",
      " [0.33333333 0.33333333]]\n"
     ]
    }
   ],
   "source": [
    "x = np.random.randint(10, size = (2,2))\n",
    "print(x)\n",
    "x_min = np.min(x)\n",
    "x_max = np.max(x)\n",
    "x_norm = (x - x_min) / (x_max - x_min)\n",
    "print(x_norm)\n",
    "\n"
   ]
  },
  {
   "cell_type": "markdown",
   "id": "5658a1a9-aaa3-49ab-9198-91cdd5b3fcd6",
   "metadata": {},
   "source": [
    "## Exercise 32:\n",
    "Create two NumPy arrays and find the dot product.\n",
    "\n"
   ]
  },
  {
   "cell_type": "code",
   "execution_count": 281,
   "id": "0325d14e-e1ed-42c0-8521-baf767dd8f00",
   "metadata": {},
   "outputs": [
    {
     "name": "stdout",
     "output_type": "stream",
     "text": [
      "[5 7 8 7 7]\n",
      "[12  2 12  7  1]\n",
      "226\n"
     ]
    }
   ],
   "source": [
    "x = np.random.randint(10, size = 5)\n",
    "print(x)\n",
    "y = np.random.randint(15, size = 5)\n",
    "print(y)\n",
    "t = np.dot(x,y)\n",
    "print(t)"
   ]
  },
  {
   "cell_type": "markdown",
   "id": "9009a978-f583-416e-b36b-7c2e65eb5fd1",
   "metadata": {},
   "source": [
    "## Exercise 33:\n",
    "Find the trace of a square NumPy matrix.\n",
    "\n"
   ]
  },
  {
   "cell_type": "code",
   "execution_count": 284,
   "id": "cae7bf6a-2ac2-4fe4-8646-5bc57bfae67a",
   "metadata": {},
   "outputs": [
    {
     "name": "stdout",
     "output_type": "stream",
     "text": [
      "[[4 3 0]\n",
      " [6 3 6]\n",
      " [3 6 1]]\n",
      "8\n"
     ]
    }
   ],
   "source": [
    "x = np.random.randint(10, size = (3,3))\n",
    "print(x)\n",
    "y = np.trace(x)\n",
    "print(y)"
   ]
  },
  {
   "cell_type": "markdown",
   "id": "f9fc6186-26ba-42d4-a8ba-f0f5fa394f69",
   "metadata": {},
   "source": [
    "## Exercise 34:\n",
    "Create a 2D array and swap two rows.\n",
    "\n"
   ]
  },
  {
   "cell_type": "code",
   "execution_count": 289,
   "id": "74d7fa27-440e-444a-96e6-093be2953ca7",
   "metadata": {},
   "outputs": [
    {
     "name": "stdout",
     "output_type": "stream",
     "text": [
      "[[5 3]\n",
      " [2 4]]\n",
      "[[5 2]\n",
      " [2 4]]\n"
     ]
    }
   ],
   "source": [
    "x = np.random.randint(10, size = (2,2))\n",
    "print(x)\n",
    "x[0,1] = x[1,0]\n",
    "print(x)"
   ]
  },
  {
   "cell_type": "markdown",
   "id": "637c3cc2-e747-4860-8d57-e8c21ee10eac",
   "metadata": {},
   "source": [
    "## Exercise 35:\n",
    "Create a 1D NumPy array and convert it into a column vector.\n",
    "\n"
   ]
  },
  {
   "cell_type": "code",
   "execution_count": 294,
   "id": "7f587ba0-446a-4528-9d24-18e311861342",
   "metadata": {},
   "outputs": [
    {
     "name": "stdout",
     "output_type": "stream",
     "text": [
      "[6 7 6 0 1]\n",
      "[[6]\n",
      " [7]\n",
      " [6]\n",
      " [0]\n",
      " [1]]\n"
     ]
    }
   ],
   "source": [
    "x = np.random.randint(10, size = 5)\n",
    "print(x)\n",
    "x_column = x[:, np.newaxis]\n",
    "print(x_column)\n"
   ]
  },
  {
   "cell_type": "markdown",
   "id": "d486914d-7078-4791-bf57-fb863b834023",
   "metadata": {},
   "source": [
    "## Exercise 36:\n",
    "Find the determinant of a 3x3 matrix.\n",
    "\n"
   ]
  },
  {
   "cell_type": "code",
   "execution_count": 299,
   "id": "7946e0f0-3617-415d-9bf6-62dd4672b2a1",
   "metadata": {},
   "outputs": [
    {
     "name": "stdout",
     "output_type": "stream",
     "text": [
      "[[7 6 0]\n",
      " [9 9 2]\n",
      " [2 5 1]]\n",
      "-36.99999999999999\n"
     ]
    }
   ],
   "source": [
    "x = np.random.randint(10, size = (3,3))\n",
    "print(x)\n",
    "determinant = np.linalg.det(x)\n",
    "print(determinant)"
   ]
  },
  {
   "cell_type": "markdown",
   "id": "168795ce-f586-4a23-b940-00a6d4769d10",
   "metadata": {},
   "source": [
    "## Exercise 37:\n",
    "Find the eigenvalues and eigenvectors of a 2x2 matrix.\n",
    "\n"
   ]
  },
  {
   "cell_type": "code",
   "execution_count": 302,
   "id": "216eb8ab-a732-49a5-88c6-4bbfa69ad2b2",
   "metadata": {},
   "outputs": [
    {
     "name": "stdout",
     "output_type": "stream",
     "text": [
      "[[0 9]\n",
      " [9 2]]\n",
      "[-8.05538514 10.05538514]\n",
      "[[-0.74512802 -0.66692146]\n",
      " [ 0.66692146 -0.74512802]]\n"
     ]
    }
   ],
   "source": [
    "x = np.random.randint(10, size = (2,2))\n",
    "print(x)\n",
    "eig_va, eig_vec =  np.linalg.eig(x) \n",
    "print(eig_va)\n",
    "print(eig_vec)"
   ]
  },
  {
   "cell_type": "markdown",
   "id": "dc1f3bc9-dd82-4b70-aadf-6b88f594504a",
   "metadata": {},
   "source": [
    "## Exercise 38:\n",
    "Solve a system of linear equations using NumPy.\n",
    "\n"
   ]
  },
  {
   "cell_type": "code",
   "execution_count": 309,
   "id": "9329e806-556c-4393-b989-38c7711997eb",
   "metadata": {},
   "outputs": [
    {
     "name": "stdout",
     "output_type": "stream",
     "text": [
      "[ 1.33333333 -0.54166667]\n"
     ]
    }
   ],
   "source": [
    "x = np.random.randint(10, size = (2,2))\n",
    "y = np.array([4, 5])\n",
    "sol = np.linalg.solve(x, y)\n",
    "print(sol)"
   ]
  },
  {
   "cell_type": "markdown",
   "id": "70d691f8-4c95-4e4f-a0be-189c57afd3cf",
   "metadata": {},
   "source": [
    "## Exercise 39:\n",
    "Add Gaussian noise to a NumPy array.\n",
    "\n"
   ]
  },
  {
   "cell_type": "code",
   "execution_count": null,
   "id": "5e8e5596-4034-4c8c-9ae9-db14e2c10a4a",
   "metadata": {},
   "outputs": [],
   "source": []
  },
  {
   "cell_type": "markdown",
   "id": "0bf68e7d-bf95-407b-b08f-16a5134a8da7",
   "metadata": {},
   "source": [
    "## Exercise 40:\n",
    "Create a 4x4 matrix and extract the diagonal elements.\n",
    "\n"
   ]
  },
  {
   "cell_type": "code",
   "execution_count": 312,
   "id": "bc62d3af-084d-4817-a09a-a87ae702c911",
   "metadata": {},
   "outputs": [
    {
     "name": "stdout",
     "output_type": "stream",
     "text": [
      "[[0 7 6 0]\n",
      " [8 1 5 9]\n",
      " [0 8 9 4]\n",
      " [7 5 6 7]]\n",
      "[0 1 9 7]\n"
     ]
    }
   ],
   "source": [
    "x = np.random.randint(10, size = (4,4))\n",
    "print(x)\n",
    "diag = np.diagonal(x)\n",
    "print(diag)\n"
   ]
  },
  {
   "cell_type": "markdown",
   "id": "c86de71c-168b-4b2a-89a4-b0c9386b2ca1",
   "metadata": {},
   "source": [
    "## Exercise 41:\n",
    "Generate a NumPy array of 100 random values and clip the values to a range between 10 and 50.\n",
    "\n"
   ]
  },
  {
   "cell_type": "code",
   "execution_count": 316,
   "id": "435abd07-4f55-486e-b552-4398c0294879",
   "metadata": {},
   "outputs": [
    {
     "name": "stdout",
     "output_type": "stream",
     "text": [
      "[36  9 25 14 48 24 43 10 10 24 27  2 30 32 30  9 13  7  1 30 49 47 40 49\n",
      " 37 28 34  9 18 13  5 13 39 20 28 19  9 14 20 16  3 39 46 46 21 29 34 28\n",
      " 16 23 27 37 45 28 41  0 40 31 24 18 43  9 24  0 31 32 43 34 25 25 29 40\n",
      " 40 23 18 29 30  1  1  0 37 48 49 11 12  5 26 17  6 43 44 18 39 30  1 12\n",
      " 18 35  1 26]\n",
      "[36 10 25 14 48 24 43 10 10 24 27 10 30 32 30 10 13 10 10 30 49 47 40 49\n",
      " 37 28 34 10 18 13 10 13 39 20 28 19 10 14 20 16 10 39 46 46 21 29 34 28\n",
      " 16 23 27 37 45 28 41 10 40 31 24 18 43 10 24 10 31 32 43 34 25 25 29 40\n",
      " 40 23 18 29 30 10 10 10 37 48 49 11 12 10 26 17 10 43 44 18 39 30 10 12\n",
      " 18 35 10 26]\n"
     ]
    }
   ],
   "source": [
    "x = np.random.randint(50, size = 100)\n",
    "print(x)\n",
    "y = np.clip(x,10,50)\n",
    "print(y)"
   ]
  },
  {
   "cell_type": "markdown",
   "id": "1ceb9132-e430-4772-8ad4-6b327ba2f2c6",
   "metadata": {},
   "source": [
    "## Exercise 42:\n",
    "Create a 2D NumPy array and replace all negative values with zero.\n",
    "\n"
   ]
  },
  {
   "cell_type": "code",
   "execution_count": 323,
   "id": "6693b9bd-d36c-4c3c-a924-ff4a70af3f17",
   "metadata": {},
   "outputs": [
    {
     "name": "stdout",
     "output_type": "stream",
     "text": [
      "[[  3   0  -7 -10]\n",
      " [  3  -5   9   3]\n",
      " [  4  -2  -6  -8]\n",
      " [ -3  -9  -3   1]]\n",
      "[[3 0 0 0]\n",
      " [3 0 9 3]\n",
      " [4 0 0 0]\n",
      " [0 0 0 1]]\n"
     ]
    }
   ],
   "source": [
    "x = np.random.randint(-10,10, size = (4,4))\n",
    "print(x)\n",
    "x[x < 0] = 0\n",
    "print(x)"
   ]
  },
  {
   "cell_type": "markdown",
   "id": "a70f6b07-b6dd-49ff-9b81-a901a0bbab5a",
   "metadata": {},
   "source": [
    "## Exercise 43:\n",
    "Find the inner and outer products of two NumPy arrays.\n",
    "\n"
   ]
  },
  {
   "cell_type": "code",
   "execution_count": 326,
   "id": "06c36205-4f33-4b52-8653-268bd5d7b19b",
   "metadata": {},
   "outputs": [
    {
     "name": "stdout",
     "output_type": "stream",
     "text": [
      "[19  0 30  1 33  4 35  7 34 10]\n",
      "[ 7  8 17  9  4 15  1  3 14 23]\n",
      "1606\n",
      "[[133 152 323 171  76 285  19  57 266 437]\n",
      " [  0   0   0   0   0   0   0   0   0   0]\n",
      " [210 240 510 270 120 450  30  90 420 690]\n",
      " [  7   8  17   9   4  15   1   3  14  23]\n",
      " [231 264 561 297 132 495  33  99 462 759]\n",
      " [ 28  32  68  36  16  60   4  12  56  92]\n",
      " [245 280 595 315 140 525  35 105 490 805]\n",
      " [ 49  56 119  63  28 105   7  21  98 161]\n",
      " [238 272 578 306 136 510  34 102 476 782]\n",
      " [ 70  80 170  90  40 150  10  30 140 230]]\n"
     ]
    }
   ],
   "source": [
    "x = np.random.randint(50, size = 10)\n",
    "y = np.random.randint(25, size = 10)\n",
    "print(x)\n",
    "print(y)\n",
    "inn = np.inner(x, y)\n",
    "print(inn)\n",
    "out = np.outer(x, y)\n",
    "print(out)"
   ]
  },
  {
   "cell_type": "markdown",
   "id": "daeda68d-90bb-4cdb-a8a7-7f3ad8fd7d3c",
   "metadata": {},
   "source": [
    "## Exercise 44:\n",
    "Calculate the pairwise distances between points in a NumPy array.\n",
    "\n"
   ]
  },
  {
   "cell_type": "code",
   "execution_count": 329,
   "id": "570a0f60-ed2a-41df-9177-3b08c60a875a",
   "metadata": {},
   "outputs": [
    {
     "name": "stdout",
     "output_type": "stream",
     "text": [
      "[[  5  -5   1  -3]\n",
      " [  2  -3   9  -5]\n",
      " [-10   9   7   1]\n",
      " [  9  -1  -9   4]]\n",
      "[[ 0.          9.         21.74856317 13.45362405]\n",
      " [ 9.          0.         18.11077028 21.40093456]\n",
      " [21.74856317 18.11077028  0.         26.94438717]\n",
      " [13.45362405 21.40093456 26.94438717  0.        ]]\n"
     ]
    }
   ],
   "source": [
    "from scipy.spatial.distance import pdist, squareform\n",
    "x = np.random.randint(-10,10, size = (4,4))\n",
    "print(x)\n",
    "distances = squareform(pdist(x, metric='euclidean'))\n",
    "print(distances)\n"
   ]
  },
  {
   "cell_type": "markdown",
   "id": "4a1a34cf-3a3d-4716-ae21-bcb0d87058e1",
   "metadata": {},
   "source": [
    "## Exercise 45:\n",
    "Create a structured NumPy array with fields for name, age, and height.\n",
    "\n"
   ]
  },
  {
   "cell_type": "code",
   "execution_count": 332,
   "id": "13a754a7-1a15-4c7f-a35a-d9ca1aa83ed4",
   "metadata": {},
   "outputs": [
    {
     "name": "stdout",
     "output_type": "stream",
     "text": [
      "[('Carine', 25, 5.5) ('Frieda', 30, 6. ) ('Paul', 35, 5.8)]\n"
     ]
    }
   ],
   "source": [
    "Liste = [('Carine', 25, 5.5),('Frieda', 30, 6.0),('Paul', 35, 5.8)]\n",
    "x = np.array(Liste, dtype=[('name', 'U10'), ('age', 'i4'), ('height', 'f4')])\n",
    "print(x)\n",
    "\n"
   ]
  },
  {
   "cell_type": "markdown",
   "id": "dd983144-e2bd-4523-8664-21d97ef19494",
   "metadata": {},
   "source": [
    "## Exercise 46:\n",
    "Create a 5x5 matrix of random integers and count the occurrences of each unique value.\n",
    "\n"
   ]
  },
  {
   "cell_type": "code",
   "execution_count": 335,
   "id": "13e186a0-8264-4050-af61-3e919b3884f0",
   "metadata": {},
   "outputs": [
    {
     "name": "stdout",
     "output_type": "stream",
     "text": [
      "[[1 4 3 1 6]\n",
      " [4 4 0 1 8]\n",
      " [9 8 9 6 4]\n",
      " [3 0 9 4 0]\n",
      " [2 1 2 3 3]]\n",
      "Counter({4: 5, 1: 4, 3: 4, 0: 3, 9: 3, 6: 2, 8: 2, 2: 2})\n"
     ]
    }
   ],
   "source": [
    "from collections import Counter\n",
    "x = np.random.randint(10, size = (5,5))\n",
    "print(x)\n",
    "# convert in 1D\n",
    "x_1 = x.flatten()\n",
    "occurrences = Counter(x_1)\n",
    "print(occurrences)\n"
   ]
  },
  {
   "cell_type": "markdown",
   "id": "d53c2b82-b604-414c-bc64-c48aff64add9",
   "metadata": {},
   "source": [
    "## Exercise 47:\n",
    "Generate a random 3x3 NumPy array and subtract the mean of each row from the corresponding row.\n",
    "\n"
   ]
  },
  {
   "cell_type": "code",
   "execution_count": 338,
   "id": "e7984383-c535-495b-ab09-1ef23c551c93",
   "metadata": {},
   "outputs": [
    {
     "name": "stdout",
     "output_type": "stream",
     "text": [
      "[[0 5 8]\n",
      " [7 9 6]\n",
      " [1 9 9]]\n",
      "[4.33333333 7.33333333 6.33333333]\n",
      "[[-4.33333333 -2.33333333  1.66666667]\n",
      " [ 2.66666667  1.66666667 -0.33333333]\n",
      " [-3.33333333  1.66666667  2.66666667]]\n"
     ]
    }
   ],
   "source": [
    "x = np.random.randint(10, size=(3, 3))\n",
    "print(x)\n",
    "row_mean = np.mean(x, axis=1)\n",
    "print(row_mean)\n",
    "x_mean = x - row_mean\n",
    "print(x_mean)\n"
   ]
  },
  {
   "cell_type": "markdown",
   "id": "a0225f3c-6700-4bbd-9ad7-e748458bce2c",
   "metadata": {},
   "source": [
    "## Exercise 48:\n",
    "Create a NumPy array of random integers and check if any of the values are greater than 50.\n",
    "\n"
   ]
  },
  {
   "cell_type": "code",
   "execution_count": 341,
   "id": "9fe8e8bc-8829-4ce4-9922-c5a32c71cf29",
   "metadata": {},
   "outputs": [
    {
     "name": "stdout",
     "output_type": "stream",
     "text": [
      "[67 74 74 80 27 14 54 68 93 28]\n",
      "True\n"
     ]
    }
   ],
   "source": [
    "x = np.random.randint(1, 100, size=10)\n",
    "print(x)\n",
    "numbers = np.any(x > 50)\n",
    "print(numbers)\n"
   ]
  },
  {
   "cell_type": "markdown",
   "id": "ecb244ef-cdce-46e6-8dd3-eb0ecf1481dc",
   "metadata": {},
   "source": [
    "## Exercise 49:\n",
    "Calculate the moving average of a 1D NumPy array.\n",
    "\n"
   ]
  },
  {
   "cell_type": "code",
   "execution_count": null,
   "id": "437f1612-db67-403e-a308-6d6c77b91752",
   "metadata": {},
   "outputs": [],
   "source": []
  },
  {
   "cell_type": "markdown",
   "id": "15f1cb5f-dba3-43e9-aa04-6d7243c386e9",
   "metadata": {},
   "source": [
    "## Exercise 50:\n",
    "Find the Pearson correlation coefficient between two NumPy arrays.\n",
    "\n"
   ]
  },
  {
   "cell_type": "code",
   "execution_count": 345,
   "id": "93521e4e-f670-4220-acab-ea3ac8598165",
   "metadata": {},
   "outputs": [
    {
     "name": "stdout",
     "output_type": "stream",
     "text": [
      "-0.5493883490431044\n"
     ]
    }
   ],
   "source": [
    "x = np.random.randint(1, 100, size=10)\n",
    "y = np.random.randint(1, 50, size=10)\n",
    "corr = np.corrcoef(x, y)\n",
    "pear_cor = corr[0, 1]\n",
    "print(pear_cor)\n"
   ]
  },
  {
   "cell_type": "markdown",
   "id": "3ace1c4b-742c-4a81-bea8-4e32a4e091c8",
   "metadata": {},
   "source": [
    "## Exercise 51:\n",
    "Convert a NumPy array of radians to degrees.\n",
    "\n"
   ]
  },
  {
   "cell_type": "code",
   "execution_count": null,
   "id": "0515a417-fedc-4024-80c4-881084f550b8",
   "metadata": {},
   "outputs": [],
   "source": []
  },
  {
   "cell_type": "markdown",
   "id": "429786b5-e7fc-451f-a1d4-d57f4bef0789",
   "metadata": {},
   "source": [
    "## Exercise 52:\n",
    "Create a random NumPy array and compute its variance and standard deviation.\n",
    "\n"
   ]
  },
  {
   "cell_type": "code",
   "execution_count": 349,
   "id": "60498580-2d5f-4f47-b00c-ed7f290bcf94",
   "metadata": {},
   "outputs": [
    {
     "name": "stdout",
     "output_type": "stream",
     "text": [
      "930.1600000000001\n",
      "30.498524554476404\n"
     ]
    }
   ],
   "source": [
    "x = np.random.randint(1, 100, size=5)\n",
    "var = np.var(x)\n",
    "print(var)\n",
    "stan_dev = np.std(x)\n",
    "print(stan_dev)"
   ]
  },
  {
   "cell_type": "markdown",
   "id": "3b2611f3-b54a-4449-aa87-ba5f6beb595e",
   "metadata": {},
   "source": [
    "## Exercise 53:\n",
    "Create a 2D NumPy array and find the indices of the maximum values along each axis.\n"
   ]
  },
  {
   "cell_type": "code",
   "execution_count": null,
   "id": "ddb09569-03ce-4022-a349-421f38febd4a",
   "metadata": {},
   "outputs": [],
   "source": []
  },
  {
   "cell_type": "markdown",
   "id": "646f92a5-0e3b-4d4e-b1f0-d369ced42599",
   "metadata": {},
   "source": [
    "## Exercise 54:\n",
    "Compute the inverse of a 2x2 NumPy matrix.\n",
    "\n"
   ]
  },
  {
   "cell_type": "code",
   "execution_count": 355,
   "id": "a9a43901-5cb8-4207-8362-9703b6e57378",
   "metadata": {},
   "outputs": [
    {
     "name": "stdout",
     "output_type": "stream",
     "text": [
      "[[8 6 2]\n",
      " [8 6 9]\n",
      " [9 5 8]]\n",
      "[[ 0.03061224 -0.3877551   0.42857143]\n",
      " [ 0.17346939  0.46938776 -0.57142857]\n",
      " [-0.14285714  0.14285714 -0.        ]]\n"
     ]
    }
   ],
   "source": [
    "x = np.random.randint(10, size=(3, 3))\n",
    "print(x)\n",
    "inv_mat = np.linalg.inv(x)\n",
    "print(inv_mat)\n"
   ]
  },
  {
   "cell_type": "markdown",
   "id": "febd68b8-be66-4c49-aaa6-c3d1aa4a1e62",
   "metadata": {},
   "source": [
    "Exercise 55:\n",
    "Create a NumPy array of 10 random values and standardize it (mean 0, variance 1).\n",
    "\n",
    "# Exercise 55"
   ]
  },
  {
   "cell_type": "code",
   "execution_count": null,
   "id": "1e727829-9150-4044-8146-1c86a6ca742c",
   "metadata": {},
   "outputs": [],
   "source": []
  },
  {
   "cell_type": "markdown",
   "id": "9f722207-e992-47a4-b7e1-0e28b89bc380",
   "metadata": {},
   "source": [
    "Exercise 56:\n",
    "Perform element-wise addition and subtraction on two NumPy arrays.\n",
    "\n",
    "# Exercise 56"
   ]
  },
  {
   "cell_type": "code",
   "execution_count": null,
   "id": "a8589257-977a-4ce8-9d9a-25dc25d63ac8",
   "metadata": {},
   "outputs": [],
   "source": []
  },
  {
   "cell_type": "markdown",
   "id": "9dcb0d5a-e2c0-4147-ab0b-5ea2ec2d7e47",
   "metadata": {},
   "source": [
    "Exercise 57:\n",
    "Create a NumPy array of random values and find the maximum element's index.\n",
    "\n",
    "# Exercise 57"
   ]
  },
  {
   "cell_type": "code",
   "execution_count": null,
   "id": "165961ab-dc72-444f-baa5-7cc685fdc026",
   "metadata": {},
   "outputs": [],
   "source": []
  },
  {
   "cell_type": "markdown",
   "id": "b8cab8d3-3b61-4638-8620-e263ee2986a7",
   "metadata": {},
   "source": [
    "Exercise 58:\n",
    "Create a 3x3 NumPy array and rotate it by 90 degrees.\n",
    "\n",
    "# Exercise 58"
   ]
  },
  {
   "cell_type": "code",
   "execution_count": null,
   "id": "0b21c104-2fe6-4db3-9cef-2208669f7be1",
   "metadata": {},
   "outputs": [],
   "source": []
  },
  {
   "cell_type": "markdown",
   "id": "ade9e6a3-a5c4-4538-b855-bd723f085092",
   "metadata": {},
   "source": [
    "Exercise 59:\n",
    "Compute the Frobenius norm of a matrix.\n",
    "\n",
    "# Exercise 59"
   ]
  },
  {
   "cell_type": "markdown",
   "id": "7664b88f-db4e-4d58-9175-accdbb158db3",
   "metadata": {},
   "source": [
    "=Exercise 60:\n",
    "Create a 3D NumPy array and slice out a subarray.\n",
    "\n",
    "# Exercise 60"
   ]
  }
 ],
 "metadata": {
  "kernelspec": {
   "display_name": "Python 3 (ipykernel)",
   "language": "python",
   "name": "python3"
  },
  "language_info": {
   "codemirror_mode": {
    "name": "ipython",
    "version": 3
   },
   "file_extension": ".py",
   "mimetype": "text/x-python",
   "name": "python",
   "nbconvert_exporter": "python",
   "pygments_lexer": "ipython3",
   "version": "3.12.4"
  }
 },
 "nbformat": 4,
 "nbformat_minor": 5
}
